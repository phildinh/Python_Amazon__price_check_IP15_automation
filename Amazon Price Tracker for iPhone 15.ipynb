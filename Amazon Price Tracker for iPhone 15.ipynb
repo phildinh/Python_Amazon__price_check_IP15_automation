{
 "cells": [
  {
   "cell_type": "code",
   "execution_count": 1,
   "metadata": {},
   "outputs": [],
   "source": [
    "from bs4 import BeautifulSoup\n",
    "import requests\n",
    "import time\n",
    "import datetime\n",
    "\n",
    "import smtplib"
   ]
  },
  {
   "cell_type": "code",
   "execution_count": 2,
   "metadata": {},
   "outputs": [
    {
     "name": "stdout",
     "output_type": "stream",
     "text": [
      "Apple iPhone 15 (128 GB) - Black\n",
      "$1,287.00 with 14 percent savings\n"
     ]
    }
   ],
   "source": [
    "URL = 'https://www.amazon.com.au/Apple-iPhone-15-128-GB/dp/B0CHXCQPF8/ref=sr_1_2?crid=2Z7TSNW7UFEMP&dib=eyJ2IjoiMSJ9.V3DelHIRA8hjMC3riN0FBw65gpSxJZRgczynnK8MQ8j0TiLcHspq0Wi33klvS1dfeOaDZC6EODaVWvYYyEz4AHibAi6bRPl7xVmF3pjtyIsdkG-XOU4y5ZKMvnpwiSQQGOV1Yp60jR-N74FyisJrkq7uhRfzbHnHUBUPCoJgJ-CN9wjOrw2daZrLboZXQF2wQhWupCs5NNXYMyd6q-ZanJ_0SQq_wjCsPj3ipUgu3FNwp9G9bHP6HvLgPF0ccPBuw0oakUSfdqF2oCxmi4FkvY1NmVCK5g32A4a4WlVi2m0.CvArOIA634dGky7MszBaWBIyk5KfCUTX5XED-04WtfQ&dib_tag=se&keywords=iphone+15&qid=1719481924&sprefix=iphone+15%2Caps%2C448&sr=8-2'\n",
    "\n",
    "headers = {\"User-Agent\": \"Mozilla/5.0 (Windows NT 10.0; Win64; x64) AppleWebKit/537.36 (KHTML, like Gecko) Chrome/78.0.3904.108 Safari/537.36\", \"Accept-Encoding\":\"gzip, deflate\", \"Accept\":\"text/html,application/xhtml+xml,application/xml;q=0.9,*/*;q=0.8\", \"DNT\":\"1\",\"Connection\":\"close\", \"Upgrade-Insecure-Requests\":\"1\"}\n",
    "\n",
    "page = requests.get(URL, headers=headers)\n",
    "\n",
    "soup1 = BeautifulSoup(page.content, \"html.parser\")\n",
    "\n",
    "soup2 = BeautifulSoup(soup1.prettify(), \"html.parser\")\n",
    "\n",
    "title = soup2.find(id='productTitle').get_text().strip()\n",
    "\n",
    "price = soup2.find('span', {'class':'aok-offscreen'}).get_text().strip()\n",
    "\n",
    "print(title)\n",
    "print(price)\n"
   ]
  },
  {
   "cell_type": "code",
   "execution_count": 3,
   "metadata": {},
   "outputs": [
    {
     "name": "stdout",
     "output_type": "stream",
     "text": [
      "2024-06-27\n"
     ]
    }
   ],
   "source": [
    "import datetime\n",
    "\n",
    "today = datetime.date.today()\n",
    "\n",
    "print(today)"
   ]
  },
  {
   "cell_type": "code",
   "execution_count": 4,
   "metadata": {},
   "outputs": [],
   "source": [
    "import csv \n",
    "\n",
    "header = ['Title', 'Price', 'Date']\n",
    "data = [title, price, today]\n",
    "\n",
    "\n",
    "with open('Amazonpricecheckip15.csv', 'w', newline='', encoding='UTF8') as f:\n",
    "    writer = csv.writer(f)\n",
    "    writer.writerow(header)\n",
    "    writer.writerow(data)"
   ]
  },
  {
   "cell_type": "code",
   "execution_count": 10,
   "metadata": {},
   "outputs": [
    {
     "name": "stdout",
     "output_type": "stream",
     "text": [
      "                              Title                              Price  \\\n",
      "0  Apple iPhone 15 (128 GB) - Black  $1,287.00 with 14 percent savings   \n",
      "1  Apple iPhone 15 (128 GB) - Black  $1,287.00 with 14 percent savings   \n",
      "2  Apple iPhone 15 (128 GB) - Black  $1,287.00 with 14 percent savings   \n",
      "3  Apple iPhone 15 (128 GB) - Black  $1,287.00 with 14 percent savings   \n",
      "4  Apple iPhone 15 (128 GB) - Black  $1,287.00 with 14 percent savings   \n",
      "5  Apple iPhone 15 (128 GB) - Black  $1,287.00 with 14 percent savings   \n",
      "\n",
      "         Date  \n",
      "0  2024-06-27  \n",
      "1  2024-06-27  \n",
      "2  2024-06-27  \n",
      "3  2024-06-27  \n",
      "4  2024-06-27  \n",
      "5  2024-06-27  \n"
     ]
    }
   ],
   "source": [
    "import pandas as pd\n",
    "\n",
    "df = pd.read_csv(r'C:\\Users\\dinht\\OneDrive\\Desktop\\học data\\Học Python\\Amazonpricecheckip15.csv')\n",
    "\n",
    "print(df)"
   ]
  },
  {
   "cell_type": "code",
   "execution_count": 6,
   "metadata": {},
   "outputs": [],
   "source": [
    "with open('Amazonpricecheckip15.csv', 'a+', newline='', encoding='UTF8') as f:\n",
    "    writer = csv.writer(f)\n",
    "    writer.writerow(data)"
   ]
  },
  {
   "cell_type": "code",
   "execution_count": 3,
   "metadata": {},
   "outputs": [],
   "source": [
    "def check_price():\n",
    "    URL = 'https://www.amazon.com.au/Apple-iPhone-15-128-GB/dp/B0CHXCQPF8/ref=sr_1_2?crid=2Z7TSNW7UFEMP&dib=eyJ2IjoiMSJ9.V3DelHIRA8hjMC3riN0FBw65gpSxJZRgczynnK8MQ8j0TiLcHspq0Wi33klvS1dfeOaDZC6EODaVWvYYyEz4AHibAi6bRPl7xVmF3pjtyIsdkG-XOU4y5ZKMvnpwiSQQGOV1Yp60jR-N74FyisJrkq7uhRfzbHnHUBUPCoJgJ-CN9wjOrw2daZrLboZXQF2wQhWupCs5NNXYMyd6q-ZanJ_0SQq_wjCsPj3ipUgu3FNwp9G9bHP6HvLgPF0ccPBuw0oakUSfdqF2oCxmi4FkvY1NmVCK5g32A4a4WlVi2m0.CvArOIA634dGky7MszBaWBIyk5KfCUTX5XED-04WtfQ&dib_tag=se&keywords=iphone+15&qid=1719481924&sprefix=iphone+15%2Caps%2C448&sr=8-2'\n",
    "\n",
    "    headers = {\"User-Agent\": \"Mozilla/5.0 (Windows NT 10.0; Win64; x64) AppleWebKit/537.36 (KHTML, like Gecko) Chrome/78.0.3904.108 Safari/537.36\", \"Accept-Encoding\":\"gzip, deflate\", \"Accept\":\"text/html,application/xhtml+xml,application/xml;q=0.9,*/*;q=0.8\", \"DNT\":\"1\",\"Connection\":\"close\", \"Upgrade-Insecure-Requests\":\"1\"}\n",
    "\n",
    "    page = requests.get(URL, headers=headers)\n",
    "\n",
    "    soup1 = BeautifulSoup(page.content, \"html.parser\")\n",
    "\n",
    "    soup2 = BeautifulSoup(soup1.prettify(), \"html.parser\")\n",
    "\n",
    "    title = soup2.find(id='productTitle').get_text().strip()\n",
    "\n",
    "    price = soup2.find('span', {'class':'aok-offscreen'}).get_text().strip()\n",
    "    \n",
    "    import datetime\n",
    "\n",
    "    today = datetime.date.today()\n",
    "\n",
    "    import csv \n",
    "\n",
    "    header = ['Title', 'Price', 'Date']\n",
    "    data = [title, price, today]\n",
    "\n",
    "    with open('Amazonpricecheckip15.csv', 'a+', newline='', encoding='UTF8') as f:\n",
    "        writer = csv.writer(f)\n",
    "        writer.writerow(data)\n",
    "\n",
    "    if(price<1,000.00):\n",
    "       send_mail()"
   ]
  },
  {
   "cell_type": "code",
   "execution_count": 9,
   "metadata": {},
   "outputs": [],
   "source": [
    "while(True):\n",
    "    check_price()\n",
    "    time.sleep(86400)"
   ]
  },
  {
   "cell_type": "code",
   "execution_count": 11,
   "metadata": {},
   "outputs": [
    {
     "name": "stdout",
     "output_type": "stream",
     "text": [
      "                              Title                              Price  \\\n",
      "0  Apple iPhone 15 (128 GB) - Black  $1,287.00 with 14 percent savings   \n",
      "1  Apple iPhone 15 (128 GB) - Black  $1,287.00 with 14 percent savings   \n",
      "2  Apple iPhone 15 (128 GB) - Black  $1,287.00 with 14 percent savings   \n",
      "3  Apple iPhone 15 (128 GB) - Black  $1,287.00 with 14 percent savings   \n",
      "4  Apple iPhone 15 (128 GB) - Black  $1,287.00 with 14 percent savings   \n",
      "5  Apple iPhone 15 (128 GB) - Black  $1,287.00 with 14 percent savings   \n",
      "\n",
      "         Date  \n",
      "0  2024-06-27  \n",
      "1  2024-06-27  \n",
      "2  2024-06-27  \n",
      "3  2024-06-27  \n",
      "4  2024-06-27  \n",
      "5  2024-06-27  \n"
     ]
    }
   ],
   "source": [
    "import pandas as pd\n",
    "\n",
    "df = pd.read_csv(r'C:\\Users\\dinht\\OneDrive\\Desktop\\học data\\Học Python\\Amazonpricecheckip15.csv')\n",
    "\n",
    "print(df)"
   ]
  },
  {
   "cell_type": "code",
   "execution_count": 6,
   "metadata": {},
   "outputs": [],
   "source": [
    "def send_mail():\n",
    "    server = smtplib.SMTP_SSL('smtp.gmail.com',465)\n",
    "    server.ehlo()\n",
    "    #server.starttls()\n",
    "    server.ehlo()\n",
    "    server.login('your email account ex: dinhthanhtrung2011@gmail.com','your password')\n",
    "    \n",
    "    subject = \"Price Alert: iPhone 15 below $1000!\"\n",
    "    body = \"The price of the iPhone 15 has dropped below $1000. Check the Amazon link :https://www.amazon.com.au/Apple-iPhone-15-128-GB/dp/B0CHXCQPF8/ref=sr_1_2?crid=2Z7TSNW7UFEMP&dib=eyJ2IjoiMSJ9.V3DelHIRA8hjMC3riN0FBw65gpSxJZRgczynnK8MQ8j0TiLcHspq0Wi33klvS1dfeOaDZC6EODaVWvYYyEz4AHibAi6bRPl7xVmF3pjtyIsdkG-XOU4y5ZKMvnpwiSQQGOV1Yp60jR-N74FyisJrkq7uhRfzbHnHUBUPCoJgJ-CN9wjOrw2daZrLboZXQF2wQhWupCs5NNXYMyd6q-ZanJ_0SQq_wjCsPj3ipUgu3FNwp9G9bHP6HvLgPF0ccPBuw0oakUSfdqF2oCxmi4FkvY1NmVCK5g32A4a4WlVi2m0.CvArOIA634dGky7MszBaWBIyk5KfCUTX5XED-04WtfQ&dib_tag=se&keywords=iphone+15&qid=1719481924&sprefix=iphone+15%2Caps%2C448&sr=8-2\"\n",
    "   \n",
    "    msg = f\"Subject: {subject}\\n\\n{body}\"\n",
    "    \n",
    "    server.sendmail(\n",
    "        'dinhthanhtrung2011@gmail.com',\n",
    "        msg\n",
    "     \n",
    "    )"
   ]
  }
 ],
 "metadata": {
  "kernelspec": {
   "display_name": "Python 3",
   "language": "python",
   "name": "python3"
  },
  "language_info": {
   "codemirror_mode": {
    "name": "ipython",
    "version": 3
   },
   "file_extension": ".py",
   "mimetype": "text/x-python",
   "name": "python",
   "nbconvert_exporter": "python",
   "pygments_lexer": "ipython3",
   "version": "3.11.9"
  }
 },
 "nbformat": 4,
 "nbformat_minor": 2
}
